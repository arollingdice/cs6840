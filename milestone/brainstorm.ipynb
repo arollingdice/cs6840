{
 "cells": [
  {
   "cell_type": "markdown",
   "id": "a113942f-b843-4ba3-9ddf-98f7eef12530",
   "metadata": {},
   "source": [
    "**Course Project**"
   ]
  },
  {
   "cell_type": "markdown",
   "id": "d7c06666-c99c-4683-917f-76b9b73e65a7",
   "metadata": {},
   "source": [
    "Topics\n",
    "<br>**Ways Social Media Websites can Help People During Their Job Search**\n",
    "<br>**Movie**"
   ]
  },
  {
   "cell_type": "markdown",
   "id": "e4a04357-d511-441a-962c-b113482298ae",
   "metadata": {},
   "source": [
    "Audiences: Age ? Interest ? Reason"
   ]
  }
 ],
 "metadata": {
  "kernelspec": {
   "display_name": "Python 3 (ipykernel)",
   "language": "python",
   "name": "python3"
  },
  "language_info": {
   "codemirror_mode": {
    "name": "ipython",
    "version": 3
   },
   "file_extension": ".py",
   "mimetype": "text/x-python",
   "name": "python",
   "nbconvert_exporter": "python",
   "pygments_lexer": "ipython3",
   "version": "3.8.10"
  }
 },
 "nbformat": 4,
 "nbformat_minor": 5
}
