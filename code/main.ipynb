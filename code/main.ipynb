{
 "cells": [
  {
   "cell_type": "markdown",
   "id": "e463a491-1314-4f12-8dff-9504bc8052d2",
   "metadata": {},
   "source": [
    "**Insert Genre column for each movie.** <br>\n",
    "\n",
    "Genres data scraped from IMDb, each movie may have **different total number** of tags for its genre.<br>\n",
    "\n",
    "**e.g:** <br>\n",
    "**Terminator (1984)** : Action, Sci-fi (2 tags) <br>\n",
    "**WALL·E (2008)** : Animation, Adventure, Family (3 tags)"
   ]
  },
  {
   "cell_type": "code",
   "execution_count": 1,
   "id": "c2eb94bb-81d0-4001-bb27-0d838081c63c",
   "metadata": {},
   "outputs": [],
   "source": [
    "import pandas as pd\n",
    "import networkx as nx\n",
    "import requests\n",
    "from bs4 import BeautifulSoup as bs"
   ]
  },
  {
   "cell_type": "code",
   "execution_count": 2,
   "id": "368f4f79-867d-41d1-b4c6-e91e0709f777",
   "metadata": {},
   "outputs": [],
   "source": [
    "df = pd.read_csv(\"../data/dataverse_files/network_metadata.tab\", sep='\\t', lineterminator='\\r')"
   ]
  },
  {
   "cell_type": "code",
   "execution_count": 3,
   "id": "add25711-a1a0-4aef-931c-db95cd4df6bd",
   "metadata": {},
   "outputs": [],
   "source": [
    "imdb_ids = df['IMDB_id'].tolist()\n",
    "base_url = \"https://www.imdb.com/title/\"\n",
    "all_genres = []\n",
    "\n",
    "for imdb_id in imdb_ids:\n",
    "    url = base_url + imdb_id\n",
    "    response = requests.get(url, headers={'User-Agent': 'Mozilla/5.0'})\n",
    "    soup = bs(response.text, 'html.parser')\n",
    "    genres = soup.findAll('span', attrs={\"class\":\"ipc-chip__text\"})\n",
    "    all_genres.append([e.text for e in genres])\n",
    "    \n",
    "df.insert(4, \"Genre\", all_genres, True)\n",
    "df.to_csv(\"network_metadata_with_genres.csv\", index=False)"
   ]
  },
  {
   "cell_type": "code",
   "execution_count": 4,
   "id": "e29cd76e-59fa-4ec0-b0b7-61512295e549",
   "metadata": {},
   "outputs": [],
   "source": [
    "! cp network_metadata_with_genres.csv ../data/"
   ]
  },
  {
   "cell_type": "code",
   "execution_count": 5,
   "id": "bdc60dcd-40c6-4454-acaa-4d019cc3d362",
   "metadata": {},
   "outputs": [
    {
     "name": "stdout",
     "output_type": "stream",
     "text": [
      "[['Comedy', 'Drama', 'Romance'], ['Crime', 'Drama', 'Thriller'], ['Drama'], ['Biography', 'Drama'], ['Adventure', 'Biography', 'Drama'], ['Action', 'Crime', 'Drama'], ['Comedy', 'Drama', 'Fantasy'], ['Drama', 'Thriller'], ['Adventure', 'Sci-Fi'], ['Action', 'Adventure', 'Sci-Fi'], ['Crime', 'Drama'], ['Action', 'Comedy', 'Crime'], ['Comedy', 'Drama', 'Romance'], ['Crime', 'Drama', 'Mystery'], ['Drama', 'Thriller'], ['Action', 'Crime', 'Drama'], ['Action', 'Crime', 'Drama'], ['Adventure', 'Drama', 'Mystery'], ['Comedy'], ['Comedy', 'Drama'], ['Comedy', 'Fantasy'], ['Adventure', 'Comedy', 'Sci-Fi'], ['Drama', 'Mystery', 'Thriller'], ['Drama', 'Mystery', 'Thriller'], ['Drama', 'Mystery'], ['Action', 'Drama', 'Thriller'], ['Comedy'], ['Comedy', 'Sci-Fi'], ['Biography', 'Drama', 'Sport'], ['Action', 'Horror', 'Sci-Fi'], ['Action', 'Sci-Fi'], ['Action', 'Adventure', 'Horror'], ['Action', 'Horror', 'Sci-Fi'], ['Action', 'Adventure', 'Sci-Fi'], ['Drama'], ['Comedy', 'Romance'], ['Drama', 'Film-Noir'], ['Adventure', 'Comedy', 'Drama'], ['Action', 'Horror', 'Sci-Fi'], ['Biography', 'Drama', 'Music'], ['Comedy', 'Romance'], ['Drama'], ['Biography', 'Crime', 'Drama'], ['Crime', 'Drama'], ['Comedy'], ['Comedy', 'Drama', 'Romance'], ['Crime', 'Drama', 'Horror'], ['Action'], ['Biography', 'Comedy', 'Drama'], ['Comedy', 'Horror'], ['Drama'], ['Comedy', 'Crime'], ['Comedy', 'Crime'], ['Animation', 'Adventure', 'Drama'], ['Drama', 'Romance'], ['Action', 'Mystery', 'Thriller'], ['Comedy', 'Romance'], ['Comedy', 'Drama', 'Romance'], ['Action', 'Crime', 'Drama'], ['Animation', 'Adventure', 'Comedy'], ['Comedy', 'Drama', 'Romance'], ['Drama', 'Mystery', 'War'], ['Crime', 'Drama', 'Thriller'], ['Comedy', 'Horror'], ['Comedy', 'Drama', 'Romance'], ['Action', 'Crime', 'Thriller'], ['Action', 'Crime', 'Thriller'], ['Drama', 'Romance'], ['Adventure', 'Comedy'], ['Action', 'Adventure', 'Comedy'], ['Drama', 'Romance'], ['Action', 'Adventure', 'Fantasy'], ['Action', 'Comedy', 'Crime'], ['Biography', 'Drama'], ['Drama'], ['Comedy'], ['Action', 'Drama', 'Mystery'], ['Action', 'Comedy', 'Crime'], ['Crime', 'Drama', 'Mystery'], ['Crime', 'Drama'], ['Comedy', 'Crime', 'Drama'], ['Action', 'Crime', 'Drama'], ['Comedy', 'Drama', 'Music'], ['Adventure', 'Drama', 'War'], ['Action', 'Crime', 'Drama'], ['Drama', 'Mystery', 'Thriller'], ['Biography', 'Drama'], ['Action', 'Adventure'], ['Action', 'Crime', 'Fantasy'], ['Drama', 'War'], ['Comedy', 'Drama', 'Romance'], ['Adventure', 'Drama', 'Romance'], ['Adventure', 'Comedy', 'Family'], ['Animation', 'Adventure', 'Comedy'], ['Comedy', 'Drama', 'Fantasy'], ['Comedy', 'Drama', 'Fantasy'], ['Comedy', 'Drama'], ['Drama'], ['Drama', 'History', 'Horror'], ['Comedy', 'Drama', 'Fantasy'], ['Comedy', 'Drama', 'Family'], ['Adventure', 'Drama', 'Fantasy'], ['Comedy', 'Crime'], ['Comedy', 'Crime', 'Drama'], ['Drama', 'Horror', 'Mystery'], ['Comedy', 'Crime', 'Thriller'], ['Crime', 'Drama', 'Mystery'], ['Action', 'Crime', 'Thriller'], ['Drama', 'Music'], ['Action', 'Horror', 'Sci-Fi'], ['Action', 'Horror', 'Sci-Fi'], ['Action', 'Drama', 'Sci-Fi'], ['Action', 'Horror', 'Sci-Fi'], ['Comedy', 'Drama', 'Romance'], ['Crime', 'Drama', 'Thriller'], ['Biography', 'Crime', 'Drama'], ['Crime', 'Drama', 'Mystery'], ['Drama'], ['Crime', 'Drama', 'Romance'], ['Drama', 'Thriller'], ['Action', 'Drama', 'Music'], ['Comedy', 'Crime', 'Drama'], ['Comedy', 'Drama', 'Romance'], ['Action', 'Biography', 'Crime'], ['Drama'], ['Action', 'Adventure', 'Drama'], ['Action', 'Thriller'], ['Action', 'Thriller'], ['Comedy', 'Crime', 'Drama'], ['Crime', 'Thriller'], ['Action', 'Comedy', 'Romance'], ['Action', 'Mystery', 'Thriller'], ['Action', 'Mystery', 'Thriller'], ['Biography', 'Drama', 'History'], ['Drama', 'Sci-Fi'], ['Crime', 'Drama', 'Mystery'], ['Comedy', 'Drama'], ['Crime', 'Drama', 'Mystery'], ['Drama', 'Thriller'], ['Comedy', 'Drama', 'Romance'], ['Action', 'Adventure', 'Thriller'], ['Drama', 'Romance', 'Thriller'], ['Comedy', 'Fantasy'], ['Action', 'Drama', 'Fantasy'], ['Comedy', 'Romance', 'Sport'], ['Drama', 'Music', 'Musical'], ['Comedy', 'Crime', 'Drama'], ['Drama', 'Sci-Fi', 'Thriller'], ['Comedy', 'Drama', 'Thriller'], ['Biography', 'Crime', 'Drama'], ['Crime', 'Drama'], ['Adventure', 'Drama', 'Romance'], ['Biography', 'Crime', 'Drama'], ['Crime', 'Horror', 'Sci-Fi'], ['Action', 'Crime', 'Thriller'], ['Biography', 'Crime', 'Drama'], ['Comedy'], ['Comedy', 'Mystery', 'Romance'], ['Action', 'Adventure', 'Comedy'], ['Drama', 'Horror', 'Mystery'], ['Horror', 'Mystery', 'Thriller'], ['Drama', 'Mystery', 'Thriller'], ['Adventure', 'Family', 'Fantasy'], ['Drama', 'Romance'], ['Drama'], ['Drama', 'Romance'], ['Drama', 'Mystery'], ['Drama'], ['Action', 'Adventure', 'Fantasy'], ['Comedy'], ['Action', 'Adventure', 'Thriller'], ['Biography', 'Drama', 'Sport'], ['Action', 'Crime', 'Drama'], ['Adventure', 'Drama', 'Romance'], ['Action', 'Drama', 'Thriller'], ['Biography', 'Comedy', 'Crime'], ['Crime', 'Thriller'], ['Action', 'Fantasy', 'Horror'], ['Drama', 'Romance'], ['Drama', 'Mystery', 'Thriller'], ['Animation', 'Drama', 'Family'], ['Action', 'Crime', 'Drama'], ['Action', 'Crime', 'Thriller'], ['Crime', 'Drama', 'Thriller'], ['Action', 'Comedy', 'Crime'], ['Action', 'Adventure', 'Drama'], ['Crime', 'Drama'], ['Action', 'Crime', 'Fantasy'], ['Action', 'Crime', 'Drama'], ['Action', 'Crime', 'Fantasy'], ['Drama', 'Romance'], ['Crime', 'Drama', 'Romance'], ['Drama', 'Fantasy', 'Romance'], ['Biography', 'Drama', 'Sport'], ['Adventure', 'Drama', 'Western'], ['Comedy', 'Sci-Fi'], ['Action', 'Sci-Fi', 'Thriller'], ['Comedy', 'Crime', 'Romance'], ['Horror', 'Thriller'], ['Drama'], ['Drama', 'Sci-Fi'], ['Drama', 'Romance'], ['Comedy', 'Drama'], ['Comedy'], ['Comedy', 'Crime', 'Drama'], ['Action', 'Crime', 'Thriller'], ['Action', 'Adventure', 'Horror'], ['Drama', 'War'], ['Action', 'Drama', 'History'], ['Crime', 'Drama', 'Thriller'], ['Adventure', 'Comedy', 'Music'], ['Crime', 'Drama', 'Mystery'], ['Drama', 'Mystery', 'Thriller'], ['Action', 'Thriller'], ['Comedy', 'Crime'], ['Crime', 'Drama', 'Mystery'], ['Comedy', 'Drama'], ['Biography', 'Crime', 'Drama'], ['Biography', 'Crime', 'Drama'], ['Biography', 'Drama', 'Music'], ['Crime', 'Drama', 'Film-Noir'], ['Horror'], ['Action', 'Adventure', 'Fantasy'], ['Comedy', 'Romance', 'Thriller'], ['Drama', 'Thriller'], ['Comedy'], ['Action', 'Adventure', 'Sci-Fi'], ['Action', 'Mystery', 'Thriller'], ['Crime', 'Drama', 'Thriller'], ['Comedy', 'Drama'], ['Biography', 'Comedy', 'Drama'], ['Action', 'Adventure', 'Comedy'], ['Comedy', 'Romance'], ['Biography', 'Drama'], ['Biography', 'Drama', 'History'], ['Action', 'Thriller'], ['Drama', 'Romance', 'War'], ['Action', 'Crime', 'Romance'], ['Biography', 'Drama'], ['Action', 'Adventure', 'Sci-Fi'], ['Action', 'Adventure', 'Sci-Fi'], ['Drama', 'Romance', 'Sci-Fi'], ['Comedy', 'Drama', 'Romance'], ['Horror', 'Sci-Fi', 'Thriller'], ['Horror'], ['Comedy', 'Horror'], ['Adventure', 'Drama', 'Fantasy'], ['Comedy', 'Crime', 'Romance'], ['Comedy', 'Drama', 'Music'], ['Action', 'Crime', 'Sci-Fi'], ['Biography', 'Drama', 'Thriller'], ['Comedy', 'Drama', 'Fantasy'], ['Action', 'Adventure', 'Fantasy'], ['Animation', 'Adventure', 'Comedy'], ['Crime', 'Thriller'], ['Comedy', 'Drama'], ['Comedy', 'Crime', 'Thriller'], ['Adventure', 'Comedy', 'Drama'], ['Drama'], ['Comedy'], ['Action', 'Adventure', 'Sci-Fi'], ['Drama'], ['Horror', 'Thriller'], ['Horror', 'Thriller'], ['Drama'], ['Comedy', 'Crime', 'Mystery'], ['Animation', 'Adventure', 'Comedy'], ['Drama', 'Romance'], ['Drama'], ['Comedy'], ['Crime', 'Drama', 'Thriller'], ['Comedy', 'Drama', 'Romance'], ['Drama', 'Horror', 'Romance'], ['Action', 'Horror'], ['Action', 'Crime', 'Drama'], ['Crime', 'Drama', 'Mystery'], ['Horror', 'Mystery', 'Thriller'], ['Adventure', 'Horror', 'Thriller'], ['Action', 'Crime', 'Horror'], ['Comedy', 'Drama', 'Romance'], ['Crime', 'Drama'], ['Action', 'Crime', 'Drama'], ['Comedy', 'Drama'], ['Action', 'Drama', 'War'], ['Action', 'Adventure', 'Sci-Fi'], ['Comedy', 'Drama', 'Sport'], ['Drama', 'Mystery', 'Thriller'], ['Action', 'Sci-Fi', 'Thriller'], ['Biography', 'Drama', 'History'], ['Action', 'Crime', 'Drama'], ['Crime', 'Drama'], ['Drama', 'Sci-Fi', 'Thriller'], ['Action', 'Crime', 'Thriller'], ['Action', 'Crime', 'Thriller'], ['Drama', 'Fantasy', 'Romance'], ['Action', 'Fantasy', 'Thriller'], ['Horror'], ['Comedy', 'Drama'], ['Action', 'Comedy', 'Fantasy'], ['Action', 'Comedy', 'Fantasy'], ['Drama', 'Fantasy', 'Horror'], ['Action', 'Adventure', 'Drama'], ['Comedy', 'Crime'], ['Crime', 'Drama'], ['Crime', 'Drama'], ['Biography', 'Drama'], ['Action', 'Sci-Fi', 'Thriller'], ['Action', 'Crime', 'Thriller'], ['Drama', 'Romance'], ['Horror', 'Mystery', 'Thriller'], ['Comedy', 'Drama', 'Romance'], ['Drama'], ['Adventure', 'Comedy', 'Drama'], ['Crime', 'Drama', 'Fantasy'], ['Comedy', 'Fantasy', 'Horror'], ['Comedy', 'Fantasy', 'Horror'], ['Crime', 'Drama', 'Thriller'], ['Action', 'Comedy', 'Crime'], ['Comedy', 'Drama', 'Fantasy'], ['Horror', 'Mystery', 'Thriller'], ['Crime', 'Drama', 'Romance'], ['Horror', 'Thriller'], ['Action', 'Drama', 'Fantasy'], ['Comedy'], ['Comedy', 'Drama'], ['Action', 'Crime', 'Drama'], ['Adventure', 'Comedy'], ['Fantasy', 'Horror', 'Mystery'], ['Comedy', 'Drama', 'Romance'], ['Action', 'Crime', 'Drama'], ['Comedy', 'Crime'], ['Biography', 'Crime', 'Drama'], ['Comedy'], ['Horror', 'Thriller'], ['Action', 'Adventure', 'Fantasy'], ['Action', 'Adventure', 'Fantasy'], ['Horror', 'Thriller'], ['Horror'], ['Horror', 'Mystery', 'Thriller'], ['Horror', 'Mystery', 'Thriller'], ['Comedy', 'Drama'], ['Comedy', 'Drama', 'Music'], ['Action', 'Adventure', 'Fantasy'], ['Action', 'Adventure', 'Fantasy'], ['Comedy', 'Drama', 'Romance'], ['Adventure', 'Comedy', 'Sci-Fi'], ['Action', 'Horror', 'Sci-Fi'], ['Crime', 'Drama', 'History'], ['Drama', 'Romance', 'Western'], ['Comedy', 'Drama', 'Fantasy'], ['Action', 'Crime', 'Drama'], ['Comedy', 'Sci-Fi'], ['Biography', 'Drama', 'History'], ['Horror'], ['Action', 'Adventure', 'Comedy'], ['Comedy', 'Drama', 'Fantasy'], ['Comedy', 'Drama'], ['Drama'], ['Biography', 'Comedy', 'Crime'], ['Horror', 'Mystery', 'Thriller'], ['Comedy', 'Drama'], ['Action', 'Mystery', 'Sci-Fi'], ['Drama'], ['Adventure', 'Comedy', 'Fantasy'], ['Comedy'], ['Action', 'Adventure', 'Sci-Fi'], ['Action', 'Adventure'], ['Action', 'Adventure'], ['Action', 'Adventure'], ['Biography', 'Drama', 'Thriller'], ['Drama', 'Mystery', 'Thriller'], ['Drama', 'Fantasy', 'Horror'], ['Adventure', 'Biography', 'Drama'], ['Comedy', 'Crime', 'Romance'], ['Drama', 'Romance'], ['Comedy', 'Fantasy', 'Romance'], ['Action', 'Sci-Fi', 'Thriller'], ['Drama', 'Family', 'Fantasy'], ['Comedy', 'Drama', 'Romance'], ['Action', 'Crime', 'Thriller'], ['Drama', 'Fantasy', 'Mystery'], ['Crime', 'Drama', 'Thriller'], ['Drama', 'Horror', 'Mystery'], ['Action', 'Horror', 'Sci-Fi'], ['Adventure', 'Thriller'], ['Adventure', 'Horror', 'Thriller'], ['Comedy'], ['Crime', 'Drama', 'Mystery'], ['Comedy', 'Horror'], ['Comedy', 'Drama', 'Romance'], ['Drama', 'History', 'Thriller'], ['Crime', 'Drama', 'Thriller'], ['Crime', 'Drama', 'Thriller'], ['Comedy', 'Drama'], ['Action', 'Adventure', 'Sci-Fi'], ['Action', 'Adventure', 'Sci-Fi'], ['Action', 'Adventure', 'Sci-Fi'], ['Crime', 'Drama', 'Thriller'], ['Comedy', 'Fantasy', 'Romance'], ['Drama'], ['Action', 'Crime', 'Drama'], ['Crime', 'Thriller'], ['Action', 'Adventure', 'Drama'], ['Comedy', 'Crime', 'Drama'], ['Biography', 'Drama', 'History'], ['Action', 'Adventure'], ['Crime', 'Mystery', 'Thriller'], ['Drama'], ['Biography', 'Drama', 'History'], ['Animation', 'Action', 'Adventure'], ['Crime', 'Drama', 'Mystery'], ['Comedy', 'Crime', 'Thriller'], ['Action', 'Comedy', 'Horror'], ['Horror', 'Sci-Fi', 'Thriller'], ['Action', 'Comedy', 'Crime'], ['Drama', 'Romance'], ['Adventure', 'Family'], ['Action', 'Adventure', 'Drama'], ['Action', 'Drama'], ['Biography', 'Drama', 'Romance'], ['Action', 'Crime', 'Drama'], ['Drama', 'Romance'], ['Action', 'Fantasy', 'Horror'], ['Adventure', 'Horror', 'Mystery'], ['Comedy', 'Fantasy'], ['Comedy', 'Crime', 'Drama'], ['Drama'], ['Crime', 'Drama', 'Thriller'], ['Crime', 'Drama'], ['Crime', 'Drama', 'Mystery'], ['Comedy', 'Crime', 'Drama'], ['Comedy', 'Fantasy'], ['Comedy', 'Drama'], ['Action', 'Comedy', 'Crime'], ['Action', 'Adventure', 'Sci-Fi'], ['Drama', 'Mystery', 'Western'], ['Action', 'Crime', 'Drama'], ['Horror', 'Mystery', 'Thriller'], ['Action', 'Adventure', 'Drama'], ['Action', 'Adventure', 'Drama'], ['Crime', 'Drama'], ['Action', 'Adventure', 'Comedy'], ['Mystery', 'Thriller'], ['Adventure', 'Drama', 'Fantasy'], ['Action', 'Adventure', 'Family'], ['Comedy', 'Drama'], ['Drama', 'Romance', 'Sport'], ['Drama'], ['Drama', 'Romance'], ['Comedy', 'Sport'], ['Biography', 'Drama', 'History'], ['Comedy', 'Crime'], ['Action', 'Adventure', 'Drama'], ['Action', 'Crime', 'Drama'], ['Biography', 'Comedy', 'Drama'], ['Action', 'Adventure', 'Comedy'], ['Drama', 'Thriller'], ['Crime', 'Drama'], ['Drama', 'Thriller'], ['Crime', 'Mystery', 'Thriller'], ['Comedy', 'Drama'], ['Action', 'Crime', 'Thriller'], ['Comedy', 'Drama', 'Family'], ['Drama', 'Romance'], ['Action', 'Comedy', 'Crime'], ['Action', 'Sci-Fi'], ['Action', 'Sci-Fi'], ['Action', 'Adventure', 'Crime'], ['Drama', 'Fantasy', 'Romance'], ['Animation', 'Action', 'Comedy'], ['Mystery', 'Thriller'], ['Action', 'Adventure', 'Comedy'], ['Comedy', 'War'], ['Thriller'], ['Action', 'Adventure', 'Crime'], ['Drama'], ['Action', 'Adventure', 'Family'], ['Biography', 'Drama'], ['Horror', 'Sci-Fi'], ['Comedy', 'Crime', 'Drama'], ['Action', 'Crime', 'Mystery'], ['Horror', 'Mystery'], ['Action', 'Adventure', 'Thriller'], ['Action', 'Adventure', 'Thriller'], ['Adventure', 'Sci-Fi', 'Thriller'], ['Animation', 'Comedy', 'Fantasy'], ['Drama', 'Mystery', 'Sci-Fi'], ['Comedy', 'Drama', 'Romance'], ['Comedy', 'Romance'], ['Crime', 'Drama', 'Thriller'], ['Comedy', 'Drama', 'Romance'], ['Biography', 'Drama', 'History'], ['Drama', 'Mystery', 'Thriller'], ['Comedy', 'Drama'], ['Action', 'Adventure', 'Fantasy'], ['Drama', 'Music'], ['Comedy', 'Drama', 'Romance'], ['Comedy', 'Drama', 'Family'], ['Short'], ['Action', 'Comedy', 'Fantasy'], ['Comedy', 'Drama', 'Music'], ['Action', 'Crime', 'Drama'], ['Drama', 'Family', 'History'], ['Action', 'Sci-Fi', 'Thriller'], ['Comedy'], ['Action', 'Crime', 'Drama'], ['Action', 'Crime', 'Drama'], ['Horror'], ['Fantasy', 'Horror'], ['Drama', 'Fantasy', 'Mystery'], ['Action', 'Thriller'], ['Comedy', 'Romance'], ['Comedy', 'Drama', 'Romance'], ['Comedy', 'Crime', 'Drama'], ['Adventure', 'Comedy', 'Crime'], ['Comedy', 'Crime', 'Drama'], ['Drama', 'Mystery', 'Romance'], ['Crime', 'Thriller'], ['Crime', 'Thriller'], ['Drama'], ['Drama'], ['Horror', 'Mystery', 'Thriller'], ['Biography', 'Drama', 'History'], ['Comedy', 'Crime', 'Drama'], ['Action', 'Comedy', 'Drama'], ['Crime', 'Drama', 'Thriller'], ['Action', 'Drama', 'History'], ['Action', 'Drama', 'History'], ['Drama', 'Horror', 'Thriller'], ['Crime', 'Drama', 'Thriller'], ['Fantasy', 'Horror', 'Thriller'], ['Fantasy', 'Horror', 'Thriller'], ['Drama', 'Romance'], ['Drama'], ['Crime', 'Thriller'], ['Drama', 'Horror', 'Mystery'], ['Biography', 'Drama', 'Music'], ['Drama', 'Music', 'Romance'], ['Action', 'Comedy', 'Crime'], ['Action', 'Adventure', 'Fantasy'], ['Action', 'Horror', 'Sci-Fi'], ['Adventure', 'Sci-Fi'], ['Comedy', 'Romance'], ['Drama', 'War'], ['Comedy', 'Drama', 'Fantasy'], ['Action', 'Crime', 'Thriller'], ['Biography', 'Comedy', 'Drama'], ['Drama', 'Sport'], ['Drama'], ['Action', 'Adventure', 'Horror'], ['Comedy', 'Romance'], ['Adventure', 'Family', 'Fantasy'], ['Adventure', 'Comedy', 'Crime'], ['Comedy'], ['Action', 'Crime', 'Drama'], ['Comedy', 'Drama', 'Romance'], ['Horror', 'Mystery', 'Thriller'], ['Action', 'Biography', 'Crime'], ['Crime', 'Drama'], ['Comedy', 'Drama', 'Romance'], ['Drama', 'Music', 'Romance'], ['Drama', 'Fantasy', 'Horror'], ['Biography', 'Drama'], ['Drama', 'Romance'], ['Biography', 'Drama', 'Sport'], ['Comedy', 'Crime'], ['Drama'], ['Action', 'Adventure', 'Thriller'], ['Drama', 'Romance'], ['Comedy', 'Romance', 'Sci-Fi'], ['Mystery', 'Thriller'], ['Action', 'Sci-Fi', 'Thriller'], ['Horror', 'Mystery', 'Sci-Fi'], ['Drama', 'Romance'], ['Comedy', 'Sport'], ['Crime', 'Thriller'], ['Action', 'Horror', 'Sci-Fi'], ['Drama', 'Romance'], ['Horror', 'Mystery'], ['Biography', 'Drama'], ['Drama'], ['Action', 'Adventure', 'Drama'], ['Action', 'Adventure', 'Thriller'], ['Action', 'Crime', 'Thriller'], ['Drama', 'Sport'], ['Comedy', 'Horror', 'Musical'], ['Drama', 'Romance'], ['Action', 'Crime', 'Thriller'], ['Western'], ['Horror'], ['Comedy', 'Romance'], ['Action', 'Comedy', 'Crime'], ['Action', 'Comedy', 'Crime'], ['Drama', 'Mystery', 'Sci-Fi'], ['Action', 'Adventure', 'Romance'], ['Crime', 'Drama', 'Mystery'], ['Comedy', 'Drama', 'Family'], ['Drama', 'Music', 'Romance'], ['Drama', 'War'], ['Crime', 'Drama'], ['Biography', 'Drama', 'History'], ['Horror', 'Mystery'], ['Horror', 'Mystery'], ['Horror', 'Mystery'], ['Crime', 'Drama', 'Mystery'], ['Adventure', 'Drama', 'Western'], ['Comedy', 'Sport'], ['Drama', 'Romance'], ['Action', 'Adventure', 'Sci-Fi'], ['Comedy', 'Crime', 'Thriller'], ['Comedy', 'Drama', 'Romance'], ['Drama'], ['Comedy', 'Drama'], ['Comedy', 'Drama', 'History'], ['Crime', 'Thriller'], ['Comedy', 'Drama'], ['Drama'], ['Comedy', 'Romance'], ['Action', 'Adventure', 'Mystery'], ['Drama', 'Horror'], ['Drama'], ['Horror', 'Sci-Fi'], ['Comedy', 'Drama', 'Romance'], ['Action', 'Thriller'], ['Drama', 'Mystery', 'Sci-Fi'], ['Crime', 'Drama', 'Thriller'], ['Horror'], ['Comedy', 'Drama', 'Sci-Fi'], ['Comedy', 'Family', 'Music'], ['Drama', 'Mystery', 'Thriller'], ['Comedy', 'Drama', 'Romance'], ['Fantasy', 'Horror', 'Mystery'], ['Drama'], ['Comedy', 'Horror', 'Sci-Fi'], ['Crime', 'Drama', 'Romance'], ['Action', 'Comedy', 'Crime'], ['Comedy', 'Crime'], ['Drama', 'Mystery', 'Romance'], ['Comedy', 'Romance'], ['Drama', 'Mystery', 'Romance'], ['Action', 'Drama', 'Sci-Fi'], ['Crime', 'Drama', 'Romance'], ['Comedy', 'Drama', 'Romance'], ['Comedy', 'Drama', 'Romance'], ['Thriller'], ['Comedy', 'Fantasy'], ['Action', 'Adventure', 'Comedy'], ['Action', 'Mystery', 'Sci-Fi'], ['Action', 'Adventure', 'Sci-Fi'], ['Action', 'Adventure', 'Sci-Fi'], ['Action', 'Adventure', 'Sci-Fi'], ['Action', 'Adventure', 'Drama'], ['Action', 'Adventure', 'Mystery'], ['Action', 'Adventure', 'Sci-Fi'], ['Adventure', 'Mystery', 'Sci-Fi'], ['Action', 'Adventure', 'Fantasy'], ['Action', 'Adventure', 'Fantasy'], ['Action', 'Adventure', 'Fantasy'], ['Action', 'Adventure', 'Fantasy'], ['Romance', 'Sci-Fi'], ['Action', 'Adventure', 'Sci-Fi'], ['Comedy', 'Drama'], ['Western'], ['Comedy', 'Drama'], ['Comedy', 'Crime', 'Drama'], ['Horror', 'Mystery', 'Thriller'], ['Comedy', 'Drama', 'Romance'], ['Crime', 'Drama', 'Sci-Fi'], ['Crime', 'Drama', 'Film-Noir'], ['Drama', 'Sport'], ['Comedy', 'Crime'], ['Drama', 'Film-Noir'], ['Comedy', 'Drama'], ['Comedy'], ['Comedy'], ['Crime', 'Horror', 'Mystery'], ['Drama'], ['Drama', 'Film-Noir'], ['Comedy', 'Drama'], ['Action', 'Crime', 'Thriller'], ['Drama'], ['Crime', 'Mystery', 'Thriller'], ['Drama', 'Music', 'War'], ['Crime', 'Drama', 'Thriller'], ['Crime', 'Drama'], ['Action', 'Sci-Fi'], ['Action', 'Sci-Fi'], ['Action', 'Adventure', 'Sci-Fi'], ['Adventure', 'Crime', 'Drama'], ['Horror', 'Mystery', 'Thriller'], ['Horror', 'Mystery', 'Sci-Fi'], ['Drama', 'History', 'Thriller'], ['Biography', 'Drama'], ['Action', 'Adventure', 'Comedy'], ['Documentary', 'Short', 'Sport'], ['Comedy', 'Drama', 'Family'], ['Action', 'Adventure', 'Comedy'], ['Crime', 'Mystery', 'Thriller'], ['Horror', 'Thriller'], ['Action', 'Adventure', 'Sci-Fi'], ['Comedy', 'Drama', 'Romance'], ['Action', 'Adventure', 'Sci-Fi'], ['Drama', 'Romance'], ['Animation', 'Action', 'Adventure'], ['Drama'], ['Biography', 'Drama', 'History'], ['Action', 'Adventure', 'Thriller'], ['Action', 'Drama'], ['Action', 'Adventure', 'Sci-Fi'], ['Action', 'Thriller'], ['Animation', 'Adventure', 'Comedy'], ['Crime', 'Drama', 'Thriller'], ['Drama'], ['Animation', 'Action', 'Adventure'], ['Comedy', 'Horror'], ['Action', 'Adventure', 'Sci-Fi'], ['Action', 'Comedy', 'War'], ['Action', 'Comedy', 'Thriller'], ['Crime', 'Drama', 'Romance'], ['Comedy', 'Drama'], ['Drama', 'Fantasy', 'Romance'], ['Adventure', 'Drama', 'Fantasy'], ['Crime', 'Drama', 'Mystery'], ['Drama', 'Horror', 'Thriller'], ['Crime', 'Drama', 'Sport'], ['Crime', 'Drama', 'Thriller'], ['Drama', 'Mystery', 'Sci-Fi'], ['Animation', 'Adventure', 'Comedy'], ['Comedy', 'Drama', 'Romance'], ['Crime', 'Drama', 'Mystery'], ['Action', 'Drama', 'Sci-Fi'], ['Drama', 'History', 'Thriller'], ['Fantasy', 'Mystery', 'Romance'], ['Drama'], ['Comedy', 'Crime', 'Thriller'], ['Action', 'Crime', 'Sci-Fi'], ['Comedy', 'Drama'], ['Drama', 'Romance'], ['Action', 'Crime'], ['Crime', 'Drama'], ['Animation', 'Adventure', 'Family'], ['Action', 'Crime', 'Thriller'], ['Action', 'Adventure', 'Sci-Fi'], ['Biography', 'Drama'], ['Action', 'Drama', 'Mystery'], ['Action', 'Crime', 'Drama'], ['Comedy'], ['Drama', 'Horror', 'Mystery'], ['Horror', 'Thriller'], ['Crime', 'Drama', 'Thriller'], ['Comedy', 'Musical', 'Romance'], ['Crime', 'Drama', 'Mystery'], ['Adventure', 'Drama'], ['Action', 'Crime', 'Mystery'], ['Animation', 'Adventure', 'Comedy'], ['Comedy', 'Crime', 'Drama'], ['Action', 'Adventure', 'Western'], ['Adventure', 'Drama', 'Family'], ['Action', 'Comedy', 'Sci-Fi'], ['Action', 'Adventure', 'Drama'], ['Drama', 'Romance', 'Thriller'], ['Comedy', 'Drama'], ['Drama'], ['Drama', 'Sport'], ['Drama', 'Mystery', 'Sci-Fi'], ['Action', 'Adventure', 'Sci-Fi'], ['Action', 'Sci-Fi'], ['Action', 'Adventure', 'Thriller'], ['Comedy', 'Romance'], ['Drama'], ['Comedy', 'Drama', 'Romance'], ['Comedy', 'Drama', 'Romance'], ['Comedy', 'Romance']]\n"
     ]
    }
   ],
   "source": [
    "print(all_genres)"
   ]
  },
  {
   "cell_type": "code",
   "execution_count": 6,
   "id": "2ff64aef-6adc-4022-bc04-8d140600cda7",
   "metadata": {},
   "outputs": [
    {
     "ename": "NameError",
     "evalue": "name 'ipc' is not defined",
     "output_type": "error",
     "traceback": [
      "\u001b[0;31m---------------------------------------------------------------------------\u001b[0m",
      "\u001b[0;31mNameError\u001b[0m                                 Traceback (most recent call last)",
      "Cell \u001b[0;32mIn [6], line 1\u001b[0m\n\u001b[0;32m----> 1\u001b[0m \u001b[43mipc\u001b[49m\u001b[38;5;241m-\u001b[39mchip__text\n",
      "\u001b[0;31mNameError\u001b[0m: name 'ipc' is not defined"
     ]
    }
   ],
   "source": [
    "ipc-chip__text"
   ]
  }
 ],
 "metadata": {
  "kernelspec": {
   "display_name": "Python 3 (ipykernel)",
   "language": "python",
   "name": "python3"
  },
  "language_info": {
   "codemirror_mode": {
    "name": "ipython",
    "version": 3
   },
   "file_extension": ".py",
   "mimetype": "text/x-python",
   "name": "python",
   "nbconvert_exporter": "python",
   "pygments_lexer": "ipython3",
   "version": "3.8.10"
  }
 },
 "nbformat": 4,
 "nbformat_minor": 5
}
