{
 "cells": [
  {
   "cell_type": "markdown",
   "id": "e463a491-1314-4f12-8dff-9504bc8052d2",
   "metadata": {},
   "source": [
    "**Insert Genre column for each movie.** <br>\n",
    "\n",
    "Genres data scraped from IMDb, each movie may have **different total number** of tags for its genre.<br>\n",
    "\n",
    "**e.g:** <br>\n",
    "**Terminator (1984)** : Action, Sci-fi (2 tags) <br>\n",
    "**WALL·E (2008)** : Animation, Adventure, Family (3 tags)"
   ]
  },
  {
   "cell_type": "code",
   "execution_count": 1,
   "id": "c2eb94bb-81d0-4001-bb27-0d838081c63c",
   "metadata": {},
   "outputs": [],
   "source": [
    "import pandas as pd\n",
    "import networkx as nx\n",
    "import requests\n",
    "from bs4 import BeautifulSoup as bs"
   ]
  },
  {
   "cell_type": "code",
   "execution_count": 2,
   "id": "368f4f79-867d-41d1-b4c6-e91e0709f777",
   "metadata": {},
   "outputs": [],
   "source": [
    "df = pd.read_csv(\"../data/dataverse_files/network_metadata.tab\", sep='\\t', lineterminator='\\r')"
   ]
  },
  {
   "cell_type": "code",
   "execution_count": 4,
   "id": "add25711-a1a0-4aef-931c-db95cd4df6bd",
   "metadata": {},
   "outputs": [],
   "source": [
    "imdb_ids = df['IMDB_id'].tolist()\n",
    "base_url = \"https://www.imdb.com/title/\"\n",
    "all_genres = []\n",
    "\n",
    "for imdb_id in imdb_ids:\n",
    "    url = base_url + imdb_id\n",
    "    response = requests.get(url)\n",
    "    soup = bs(response.text, 'html.parser')\n",
    "    genres = soup.findAll('span', attrs={\"class\":\"ipc-chip__text\"})\n",
    "    all_genres.append([e.text for e in genres])\n",
    "    \n",
    "df.insert(4, \"Genre\", all_genres, True)\n",
    "df.to_csv(\"network_metadata_with_genres.csv\")"
   ]
  },
  {
   "cell_type": "code",
   "execution_count": 12,
   "id": "e29cd76e-59fa-4ec0-b0b7-61512295e549",
   "metadata": {},
   "outputs": [],
   "source": [
    "! cp network_metadata_with_genres.csv ../data/dataverse_files"
   ]
  },
  {
   "cell_type": "code",
   "execution_count": null,
   "id": "bdc60dcd-40c6-4454-acaa-4d019cc3d362",
   "metadata": {},
   "outputs": [],
   "source": []
  }
 ],
 "metadata": {
  "kernelspec": {
   "display_name": "Python 3 (ipykernel)",
   "language": "python",
   "name": "python3"
  },
  "language_info": {
   "codemirror_mode": {
    "name": "ipython",
    "version": 3
   },
   "file_extension": ".py",
   "mimetype": "text/x-python",
   "name": "python",
   "nbconvert_exporter": "python",
   "pygments_lexer": "ipython3",
   "version": "3.8.10"
  }
 },
 "nbformat": 4,
 "nbformat_minor": 5
}
