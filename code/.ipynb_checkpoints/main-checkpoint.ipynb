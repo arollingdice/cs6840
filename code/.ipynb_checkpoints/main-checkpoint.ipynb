{
 "cells": [
  {
   "cell_type": "markdown",
   "id": "e463a491-1314-4f12-8dff-9504bc8052d2",
   "metadata": {},
   "source": [
    "**Insert Genre column for each movie.** <br>\n",
    "\n",
    "Genres data scraped from IMDb, each movie may have **different total number** of tags for its genre.<br>\n",
    "\n",
    "**e.g:** <br>\n",
    "**Terminator (1984)** : Action, Sci-fi (2 tags) <br>\n",
    "**WALL·E (2008)** : Animation, Adventure, Family (3 tags)"
   ]
  },
  {
   "cell_type": "code",
   "execution_count": 1,
   "id": "c2eb94bb-81d0-4001-bb27-0d838081c63c",
   "metadata": {},
   "outputs": [],
   "source": [
    "import pandas as pd\n",
    "import networkx as nx\n",
    "import requests\n",
    "from bs4 import BeautifulSoup as bs"
   ]
  },
  {
   "cell_type": "code",
   "execution_count": 2,
   "id": "368f4f79-867d-41d1-b4c6-e91e0709f777",
   "metadata": {},
   "outputs": [],
   "source": [
    "df = pd.read_csv(\"../data/dataverse_files/network_metadata.tab\", sep='\\t', lineterminator='\\r')"
   ]
  },
  {
   "cell_type": "markdown",
   "id": "e0eedf9b-5694-4d1d-a593-35f645e31a94",
   "metadata": {},
   "source": [
    "<h1>Scrape Generes form IMDB</h1>"
   ]
  },
  {
   "cell_type": "code",
   "execution_count": 3,
   "id": "add25711-a1a0-4aef-931c-db95cd4df6bd",
   "metadata": {},
   "outputs": [],
   "source": [
    "imdb_ids = df['IMDB_id'].tolist()\n",
    "base_url = \"https://www.imdb.com/title/\"\n",
    "all_genres = []\n",
    "\n",
    "for imdb_id in imdb_ids:\n",
    "    url = base_url + imdb_id\n",
    "    response = requests.get(url, headers={'User-Agent': 'Mozilla/5.0'})\n",
    "    soup = bs(response.text, 'html.parser')\n",
    "    genres = soup.findAll('span', attrs={\"class\":\"ipc-chip__text\"})\n",
    "    if 'Back to top' in genres[:]:\n",
    "        genres.remove('Back to top')\n",
    "    all_genres.append([e.text for e in genres if e.text != 'Back to top'])\n",
    "\n",
    "    \n",
    "df.insert(4, \"Genre\", all_genres, True)"
   ]
  },
  {
   "cell_type": "markdown",
   "id": "6f4f1989-61aa-44c1-ae4b-0aedabed5029",
   "metadata": {},
   "source": [
    "<h1>Calculate Transitivity</h1>"
   ]
  },
  {
   "cell_type": "code",
   "execution_count": 4,
   "id": "7a4e2688-e3fc-4ceb-b039-3591d029d66e",
   "metadata": {},
   "outputs": [],
   "source": [
    "import os\n",
    "# Get the list of files and directories in the current directory\n",
    "files = os.listdir(\"../data/gexf/\")\n",
    "\n",
    "# Split the file name and extension for each file and directory\n",
    "files = [int(os.path.splitext(file)[0]) for file in files]\n",
    "\n",
    "# Sort the list of file names without the extensions\n",
    "sorted_files = sorted(files)\n",
    "\n",
    "transitivity = []\n",
    "for file in sorted_files:\n",
    "    file_name = f'{file}.gexf'\n",
    "    G = nx.read_gexf(f\"../data/gexf/{file_name}\", node_type=None, relabel=False, version='1.2draft')\n",
    "    transitivity.append(nx.transitivity(G))\n",
    "\n",
    "df.insert(4, \"Transitivity\",  transitivity, True)\n",
    "df.to_csv(\"network_metadata_with_genres.csv\", index=False)"
   ]
  },
  {
   "cell_type": "code",
   "execution_count": 5,
   "id": "e29cd76e-59fa-4ec0-b0b7-61512295e549",
   "metadata": {},
   "outputs": [],
   "source": [
    "! cp network_metadata_with_genres.csv ../data/"
   ]
  },
  {
   "cell_type": "markdown",
   "id": "b6ad86f1-a846-4d44-b98f-539851348158",
   "metadata": {},
   "source": [
    "**<h1>IMPORTANT </h1>**\n",
    "\n",
    "Use **Excel** to open \"network_metadata_with_genres.csv\", and **replace all** the **\",\"** to **\".\"** before going to the next notebook. <br>\n",
    "\n",
    "This is because the original data are all strings, not numbers, and the data collector mark the decimal point **\".\"** as **\",\"** , which woule be difficult to deal with if not preprocessed as above. \n"
   ]
  },
  {
   "cell_type": "code",
   "execution_count": null,
   "id": "503cece0-2a61-4074-9c4d-e0566cb4f94c",
   "metadata": {},
   "outputs": [],
   "source": []
  }
 ],
 "metadata": {
  "kernelspec": {
   "display_name": "Python 3 (ipykernel)",
   "language": "python",
   "name": "python3"
  },
  "language_info": {
   "codemirror_mode": {
    "name": "ipython",
    "version": 3
   },
   "file_extension": ".py",
   "mimetype": "text/x-python",
   "name": "python",
   "nbconvert_exporter": "python",
   "pygments_lexer": "ipython3",
   "version": "3.8.10"
  }
 },
 "nbformat": 4,
 "nbformat_minor": 5
}
