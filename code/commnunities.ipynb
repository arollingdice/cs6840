{
 "cells": [
  {
   "cell_type": "code",
   "execution_count": 1,
   "id": "5086ff0e-eb9c-4137-b5f2-efc00198968f",
   "metadata": {},
   "outputs": [
    {
     "ename": "ModuleNotFoundError",
     "evalue": "No module named 'dgl'",
     "output_type": "error",
     "traceback": [
      "\u001b[0;31m---------------------------------------------------------------------------\u001b[0m",
      "\u001b[0;31mModuleNotFoundError\u001b[0m                       Traceback (most recent call last)",
      "Cell \u001b[0;32mIn [1], line 5\u001b[0m\n\u001b[1;32m      3\u001b[0m \u001b[38;5;28;01mfrom\u001b[39;00m \u001b[38;5;21;01msklearn\u001b[39;00m\u001b[38;5;21;01m.\u001b[39;00m\u001b[38;5;21;01mcluster\u001b[39;00m \u001b[38;5;28;01mimport\u001b[39;00m SpectralClustering\n\u001b[1;32m      4\u001b[0m \u001b[38;5;28;01mfrom\u001b[39;00m \u001b[38;5;21;01msklearn\u001b[39;00m\u001b[38;5;21;01m.\u001b[39;00m\u001b[38;5;21;01mmetrics\u001b[39;00m \u001b[38;5;28;01mimport\u001b[39;00m normalized_mutual_info_score\n\u001b[0;32m----> 5\u001b[0m \u001b[38;5;28;01mimport\u001b[39;00m \u001b[38;5;21;01mdgl\u001b[39;00m\n\u001b[1;32m      6\u001b[0m \u001b[38;5;28;01mimport\u001b[39;00m \u001b[38;5;21;01mtorch\u001b[39;00m\n\u001b[1;32m      8\u001b[0m \u001b[38;5;28;01mfrom\u001b[39;00m \u001b[38;5;21;01mcollections\u001b[39;00m \u001b[38;5;28;01mimport\u001b[39;00m Counter\n",
      "\u001b[0;31mModuleNotFoundError\u001b[0m: No module named 'dgl'"
     ]
    }
   ],
   "source": [
    "import os\n",
    "import numpy as np\n",
    "from sklearn.cluster import SpectralClustering\n",
    "from sklearn.metrics import normalized_mutual_info_score\n",
    "import dgl\n",
    "import torch\n",
    "\n",
    "from collections import Counter"
   ]
  },
  {
   "cell_type": "code",
   "execution_count": null,
   "id": "7d089f59-8f38-4f1d-b77d-a10687a113b6",
   "metadata": {},
   "outputs": [],
   "source": [
    "G = nx.read_gexf(f\"../data/gexf/543.gexf\", node_type=None, relabel=False, version='1.2draft')"
   ]
  },
  {
   "cell_type": "code",
   "execution_count": null,
   "id": "568171e9-5468-4583-9786-b6d6e3efd53e",
   "metadata": {},
   "outputs": [],
   "source": [
    "# group_id data for each node is missing,\n",
    "# we use the color of each node to indicate their group.\n",
    "\n",
    "\"\"\"\n",
    "get the groud truth for this graph\n",
    "\"\"\"\n",
    "def truth(input_graph):\n",
    "    group={}\n",
    "    group_labels=dict(input_graph.nodes(data=True))\n",
    "\n",
    "    res = []\n",
    "    group_id = 0\n",
    "    for k, v in group_labels.items():\n",
    "        color = str(v['viz']['color'])\n",
    "        if color not in group:\n",
    "            group[color] = group_id\n",
    "            res.append(group[color])\n",
    "            group_id += 1\n",
    "        else:\n",
    "            res.append(group[color])\n",
    "        \n",
    "    return res\n",
    "\n",
    "\"\"\"\n",
    "get the total number of groups in the graph\n",
    "\"\"\"\n",
    "\n",
    "def total_groups(input_graph):\n",
    "    return len(Counter(ground_truth(input_graph)))"
   ]
  },
  {
   "cell_type": "code",
   "execution_count": null,
   "id": "c3496d3c-83ee-4fff-a100-ef14d713e0d5",
   "metadata": {},
   "outputs": [],
   "source": [
    "# Get the list of files and directories in the current directory\n",
    "files = os.listdir(\"../data/gexf/\")\n",
    "\n",
    "# Split the file name and extension for each file and directory\n",
    "files = [int(os.path.splitext(file)[0]) for file in files]\n",
    "\n",
    "# Sort the list of file names without the extensions\n",
    "sorted_files = sorted(files)\n",
    "\n",
    "nmi_GN = []\n",
    "nmi_SC = []\n",
    "nmi_GNN = []\n",
    "# Loop through every graph in the database.\n",
    "for file in sorted_files:\n",
    "    file_name = f'{file}.gexf'\n",
    "    G = nx.read_gexf(f\"../data/gexf/{file_name}\", node_type=None, relabel=False, version='1.2draft')\n",
    "    \n",
    "    \n",
    "    # Get the ground truth of this graph\n",
    "    ground_truth = truth(G)\n",
    "    \n",
    "    \"\"\"\n",
    "    compute the communities using the Girvan-Newman algorithm, spectural clustering\n",
    "    and graph neural network\n",
    "    \"\"\"\n",
    "    \n",
    "    \"\"\"\n",
    "    Girvan-Newman algorithm\n",
    "    \"\"\"\n",
    "    communities_GN = nx.algorithms.community.centrality.girvan_newman(G)\n",
    "    # get the first set of communities from the generator object\n",
    "    predicted = tuple(sorted(c) for c in next(communities_GN))\n",
    "    # flatten the list of sets into a list of node assignments\n",
    "    predicted_flat_GN = [item for sublist in predicted for item in sublist]\n",
    "    \n",
    "    \"\"\"\n",
    "    Spectral Clustering\n",
    "    \"\"\"\n",
    "    # create a SpectralClustering object and fit the data to it\n",
    "    clustering = SpectralClustering(n_clusters=5)\n",
    "    clustering.fit(X)\n",
    "    \n",
    "    \n",
    "\n",
    "    \"\"\"\n",
    "    Graph Neural Network\n",
    "    \"\"\"\n",
    "    \n",
    "    # create a GNN with 3 hidden layers\n",
    "    net = dgl.nn.GraphConv(4, 3, 3, 3)\n",
    "    \n",
    "    # initialize the GNN's parameters\n",
    "    dgl.nn.init.xavier_uniform_(net.parameters())\n",
    "    \n",
    "    # forward pass through the GNN\n",
    "    output = net(G)\n",
    "    \n",
    "    # compute the community assignments using the GNN's output\n",
    "    community_assignments = torch.argmax(output, dim=1)\n",
    "\n",
    "    # flatten the tensor of community assignments into a list\n",
    "    predicted_flat_GNN = community_assignments.tolist()\n",
    "    \n",
    "    # compute the NMI score between the predicted and ground truth communities\n",
    "    nmi_gn = normalized_mutual_info_score(ground_truth, predicted_flat_GN)\n",
    "    nmi_sc= normalized_mutual_info_score(ground_truth, clustering.labels_)\n",
    "    nmi_gnn = normalized_mutual_info_score(ground_truth, predicted_flat_GNN)\n",
    "    \n",
    "    # add NMI scores\n",
    "    nmi_GN.append(nmi_gn)\n",
    "    nmi_SC.append(nmi_sc)\n",
    "    nmi_GNN.append(nmi_GNN)\n",
    "    "
   ]
  },
  {
   "cell_type": "code",
   "execution_count": null,
   "id": "33a5d55d-f524-4b60-a32e-5795a19edfe8",
   "metadata": {},
   "outputs": [],
   "source": [
    "# plot graph vs nmi score\n",
    "\n",
    "t = np.arange(0, 800)\n",
    "ax = plt.axes()\n",
    "ax.plot(t, nmi_GN, 'r', label='Girvan-Newman algorithm')\n",
    "ax.plot(t, nmi_SC, 'g', label='Spectral Clustering')\n",
    "ax.plot(t, nmi_GNN, 'b', label='Graph Neural Network')\n",
    "ax.set_title('graph vs nmi score')\n",
    "ax.set_xlabel('t')\n",
    "ax.set_ylabel('A(t)')\n",
    "ax.set_ylim(0, 20)\n",
    "ax.legend()\n",
    "plt.show()"
   ]
  },
  {
   "cell_type": "code",
   "execution_count": null,
   "id": "3ce06ff8-30f1-4c45-b338-d6fd3fff12db",
   "metadata": {},
   "outputs": [
    {
     "name": "stdout",
     "output_type": "stream",
     "text": [
      "Collecting torch\n",
      "  Downloading torch-1.13.0-cp38-cp38-manylinux1_x86_64.whl (890.2 MB)\n",
      "\u001b[K     |█████████████▎                  | 368.9 MB 2.0 MB/s eta 0:04:25     |██████████                      | 276.7 MB 1.1 MB/s eta 0:09:30     |██████████                      | 280.6 MB 1.2 MB/s eta 0:08:45     |████████████                    | 336.2 MB 1.8 MB/s eta 0:05:08"
     ]
    }
   ],
   "source": [
    "!pip install torch"
   ]
  },
  {
   "cell_type": "code",
   "execution_count": null,
   "id": "9effee09-cbf0-4ce9-ada4-2e903ca98767",
   "metadata": {},
   "outputs": [],
   "source": [
    "!pip install ngl"
   ]
  }
 ],
 "metadata": {
  "kernelspec": {
   "display_name": "Python 3 (ipykernel)",
   "language": "python",
   "name": "python3"
  },
  "language_info": {
   "codemirror_mode": {
    "name": "ipython",
    "version": 3
   },
   "file_extension": ".py",
   "mimetype": "text/x-python",
   "name": "python",
   "nbconvert_exporter": "python",
   "pygments_lexer": "ipython3",
   "version": "3.8.10"
  }
 },
 "nbformat": 4,
 "nbformat_minor": 5
}
